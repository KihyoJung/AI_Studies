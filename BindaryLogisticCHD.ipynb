{
 "cells": [
  {
   "cell_type": "code",
   "execution_count": 147,
   "id": "b5e4a4a2",
   "metadata": {},
   "outputs": [
    {
     "data": {
      "text/html": [
       "<div>\n",
       "<style scoped>\n",
       "    .dataframe tbody tr th:only-of-type {\n",
       "        vertical-align: middle;\n",
       "    }\n",
       "\n",
       "    .dataframe tbody tr th {\n",
       "        vertical-align: top;\n",
       "    }\n",
       "\n",
       "    .dataframe thead th {\n",
       "        text-align: right;\n",
       "    }\n",
       "</style>\n",
       "<table border=\"1\" class=\"dataframe\">\n",
       "  <thead>\n",
       "    <tr style=\"text-align: right;\">\n",
       "      <th></th>\n",
       "      <th>sbp</th>\n",
       "      <th>tobacco</th>\n",
       "      <th>ldl</th>\n",
       "      <th>adiposity</th>\n",
       "      <th>famhist</th>\n",
       "      <th>typea</th>\n",
       "      <th>obesity</th>\n",
       "      <th>alcohol</th>\n",
       "      <th>age</th>\n",
       "      <th>chd</th>\n",
       "    </tr>\n",
       "    <tr>\n",
       "      <th>row.names</th>\n",
       "      <th></th>\n",
       "      <th></th>\n",
       "      <th></th>\n",
       "      <th></th>\n",
       "      <th></th>\n",
       "      <th></th>\n",
       "      <th></th>\n",
       "      <th></th>\n",
       "      <th></th>\n",
       "      <th></th>\n",
       "    </tr>\n",
       "  </thead>\n",
       "  <tbody>\n",
       "    <tr>\n",
       "      <th>1</th>\n",
       "      <td>160</td>\n",
       "      <td>12.00</td>\n",
       "      <td>5.73</td>\n",
       "      <td>23.11</td>\n",
       "      <td>Present</td>\n",
       "      <td>49</td>\n",
       "      <td>25.30</td>\n",
       "      <td>97.20</td>\n",
       "      <td>52</td>\n",
       "      <td>1</td>\n",
       "    </tr>\n",
       "    <tr>\n",
       "      <th>2</th>\n",
       "      <td>144</td>\n",
       "      <td>0.01</td>\n",
       "      <td>4.41</td>\n",
       "      <td>28.61</td>\n",
       "      <td>Absent</td>\n",
       "      <td>55</td>\n",
       "      <td>28.87</td>\n",
       "      <td>2.06</td>\n",
       "      <td>63</td>\n",
       "      <td>1</td>\n",
       "    </tr>\n",
       "    <tr>\n",
       "      <th>3</th>\n",
       "      <td>118</td>\n",
       "      <td>0.08</td>\n",
       "      <td>3.48</td>\n",
       "      <td>32.28</td>\n",
       "      <td>Present</td>\n",
       "      <td>52</td>\n",
       "      <td>29.14</td>\n",
       "      <td>3.81</td>\n",
       "      <td>46</td>\n",
       "      <td>0</td>\n",
       "    </tr>\n",
       "    <tr>\n",
       "      <th>4</th>\n",
       "      <td>170</td>\n",
       "      <td>7.50</td>\n",
       "      <td>6.41</td>\n",
       "      <td>38.03</td>\n",
       "      <td>Present</td>\n",
       "      <td>51</td>\n",
       "      <td>31.99</td>\n",
       "      <td>24.26</td>\n",
       "      <td>58</td>\n",
       "      <td>1</td>\n",
       "    </tr>\n",
       "    <tr>\n",
       "      <th>5</th>\n",
       "      <td>134</td>\n",
       "      <td>13.60</td>\n",
       "      <td>3.50</td>\n",
       "      <td>27.78</td>\n",
       "      <td>Present</td>\n",
       "      <td>60</td>\n",
       "      <td>25.99</td>\n",
       "      <td>57.34</td>\n",
       "      <td>49</td>\n",
       "      <td>1</td>\n",
       "    </tr>\n",
       "  </tbody>\n",
       "</table>\n",
       "</div>"
      ],
      "text/plain": [
       "           sbp  tobacco   ldl  adiposity  famhist  typea  obesity  alcohol  \\\n",
       "row.names                                                                    \n",
       "1          160    12.00  5.73      23.11  Present     49    25.30    97.20   \n",
       "2          144     0.01  4.41      28.61   Absent     55    28.87     2.06   \n",
       "3          118     0.08  3.48      32.28  Present     52    29.14     3.81   \n",
       "4          170     7.50  6.41      38.03  Present     51    31.99    24.26   \n",
       "5          134    13.60  3.50      27.78  Present     60    25.99    57.34   \n",
       "\n",
       "           age  chd  \n",
       "row.names            \n",
       "1           52    1  \n",
       "2           63    1  \n",
       "3           46    0  \n",
       "4           58    1  \n",
       "5           49    1  "
      ]
     },
     "execution_count": 147,
     "metadata": {},
     "output_type": "execute_result"
    }
   ],
   "source": [
    "# import data\n",
    "import pandas as pd\n",
    "# chronic heart disease (chd)\n",
    "df = pd.read_csv('http://statweb.stanford.edu/~tibs/ElemStatLearn/datasets/SAheart.data', index_col=0)# copy data and separate predictors and response\n",
    "df.head()\n",
    "# sbp: systolic blood pressure\n",
    "# tobacco: cumulative tobacco (kg)\n",
    "# ldl: low density lipoprotein cholesterol\n",
    "# adiposity\n",
    "# famhist: family history of heart disease (Present, Absent)\n",
    "# typea: type-A behavior (workaholics)\n",
    "# obesity\n",
    "# alcohol: current alcohol consumption\n",
    "# age: age at onset\n",
    "# chd (response): coronary heart disease\n"
   ]
  },
  {
   "cell_type": "code",
   "execution_count": 151,
   "id": "56579216",
   "metadata": {},
   "outputs": [
    {
     "data": {
      "text/plain": [
       "<AxesSubplot:xlabel='tobacco', ylabel='chd'>"
      ]
     },
     "execution_count": 151,
     "metadata": {},
     "output_type": "execute_result"
    },
    {
     "data": {
      "image/png": "[encoded data removed]",
      "text/plain": [
       "<Figure size 432x288 with 1 Axes>"
      ]
     },
     "metadata": {
      "needs_background": "light"
     },
     "output_type": "display_data"
    }
   ],
   "source": [
    "# Examine the data\n",
    "df.plot.scatter('tobacco', 'chd')"
   ]
  },
  {
   "cell_type": "code",
   "execution_count": 161,
   "id": "9c24d615",
   "metadata": {},
   "outputs": [
    {
     "name": "stdout",
     "output_type": "stream",
     "text": [
      "Optimization terminated successfully.\n",
      "         Current function value: 0.600268\n",
      "         Iterations 5\n",
      "                           Logit Regression Results                           \n",
      "==============================================================================\n",
      "Dep. Variable:                    chd   No. Observations:                  462\n",
      "Model:                          Logit   Df Residuals:                      460\n",
      "Method:                           MLE   Df Model:                            1\n",
      "Date:                Fri, 16 Jul 2021   Pseudo R-squ.:                 0.06955\n",
      "Time:                        17:56:16   Log-Likelihood:                -277.32\n",
      "converged:                       True   LL-Null:                       -298.05\n",
      "Covariance Type:            nonrobust   LLR p-value:                 1.202e-10\n",
      "==============================================================================\n",
      "                 coef    std err          z      P>|z|      [0.025      0.975]\n",
      "------------------------------------------------------------------------------\n",
      "const         -1.1894      0.139     -8.557      0.000      -1.462      -0.917\n",
      "tobacco        0.1453      0.025      5.866      0.000       0.097       0.194\n",
      "==============================================================================\n"
     ]
    }
   ],
   "source": [
    "# Build binary logistic model using one predicting variable\n",
    "import statsmodels.api as sm\n",
    "\n",
    "Xtrain = df[['tobacco']]\n",
    "Xtrain = sm.add_constant(Xtrain)\n",
    "ytrain = df['chd']\n",
    "\n",
    "log_reg = sm.Logit(ytrain, Xtrain).fit()\n",
    "print(log_reg.summary())"
   ]
  },
  {
   "cell_type": "code",
   "execution_count": 162,
   "id": "afc6ec23",
   "metadata": {},
   "outputs": [
    {
     "data": {
      "image/png": "[encoded data removed]",
      "text/plain": [
       "<Figure size 432x288 with 1 Axes>"
      ]
     },
     "metadata": {
      "needs_background": "light"
     },
     "output_type": "display_data"
    }
   ],
   "source": [
    "# Plot the logistic model\n",
    "import numpy as np\n",
    "import matplotlib.pyplot as plt\n",
    "tmp, value_min = Xtrain.min()\n",
    "tmp, value_max = Xtrain.max()\n",
    "pred_input = np.linspace(value_min, value_max, 20)\n",
    "pred_input = sm.add_constant(pred_input)\n",
    "predictions = log_reg.predict(pred_input)\n",
    "\n",
    "df.plot.scatter('tobacco', 'chd')\n",
    "plt.plot(pred_input[:,1],predictions,c='red')\n",
    "plt.show()"
   ]
  },
  {
   "cell_type": "code",
   "execution_count": 163,
   "id": "3c17c460",
   "metadata": {},
   "outputs": [
    {
     "name": "stdout",
     "output_type": "stream",
     "text": [
      "Confusion Matrix : \n",
      " [[283  19]\n",
      " [119  41]]\n",
      "Test accuracy =  0.7012987012987013\n",
      "recall_score (sensitivity) =  0.25625\n",
      "precision_score (specificity) =  0.6833333333333333\n"
     ]
    }
   ],
   "source": [
    "# Accuracy analysis\n",
    "from sklearn.metrics import (confusion_matrix, accuracy_score,f1_score,precision_score,recall_score)\n",
    "\n",
    "predictions = log_reg.predict(Xtrain)\n",
    "predictions = list(map(round, predictions))\n",
    "\n",
    "# confusion matrix\n",
    "cm = confusion_matrix(ytrain, predictions) \n",
    "print (\"Confusion Matrix : \\n\", cm) \n",
    "  \n",
    "# accuracy score of the model\n",
    "print('Test accuracy = ', accuracy_score(ytrain, predictions))\n",
    "print('recall_score (sensitivity) = ', recall_score(ytrain, predictions)) # sensitivity\n",
    "print('precision_score (specificity) = ', precision_score(ytrain, predictions)) # specificity"
   ]
  },
  {
   "cell_type": "code",
   "execution_count": 164,
   "id": "a151933f",
   "metadata": {},
   "outputs": [
    {
     "name": "stdout",
     "output_type": "stream",
     "text": [
      "Optimization terminated successfully.\n",
      "         Current function value: 0.529096\n",
      "         Iterations 6\n",
      "                           Logit Regression Results                           \n",
      "==============================================================================\n",
      "Dep. Variable:                    chd   No. Observations:                  462\n",
      "Model:                          Logit   Df Residuals:                      453\n",
      "Method:                           MLE   Df Model:                            8\n",
      "Date:                Fri, 16 Jul 2021   Pseudo R-squ.:                  0.1799\n",
      "Time:                        17:56:54   Log-Likelihood:                -244.44\n",
      "converged:                       True   LL-Null:                       -298.05\n",
      "Covariance Type:            nonrobust   LLR p-value:                 1.415e-19\n",
      "==============================================================================\n",
      "                 coef    std err          z      P>|z|      [0.025      0.975]\n",
      "------------------------------------------------------------------------------\n",
      "const         -6.0669      1.272     -4.771      0.000      -8.559      -3.575\n",
      "sbp            0.0056      0.006      1.005      0.315      -0.005       0.017\n",
      "tobacco        0.0727      0.026      2.762      0.006       0.021       0.124\n",
      "ldl            0.1925      0.059      3.239      0.001       0.076       0.309\n",
      "adiposity      0.0171      0.028      0.600      0.548      -0.039       0.073\n",
      "typea          0.0405      0.012      3.350      0.001       0.017       0.064\n",
      "obesity       -0.0579      0.043     -1.348      0.178      -0.142       0.026\n",
      "alcohol        0.0014      0.004      0.328      0.743      -0.007       0.010\n",
      "age            0.0507      0.012      4.304      0.000       0.028       0.074\n",
      "==============================================================================\n"
     ]
    }
   ],
   "source": [
    "# Multiple predicting variables\n",
    "Xtrain = df[['sbp', 'tobacco','ldl','adiposity', 'typea','obesity', 'alcohol','age']]\n",
    "Xtrain = sm.add_constant(Xtrain)\n",
    "ytrain = df['chd']\n",
    "\n",
    "# building the model and fitting the data\n",
    "log_reg = sm.Logit(ytrain, Xtrain).fit()\n",
    "print(log_reg.summary())"
   ]
  },
  {
   "cell_type": "code",
   "execution_count": 165,
   "id": "b236189e",
   "metadata": {},
   "outputs": [
    {
     "name": "stdout",
     "output_type": "stream",
     "text": [
      "Confusion Matrix : \n",
      " [[253  49]\n",
      " [ 79  81]]\n",
      "Test accuracy =  0.7229437229437229\n",
      "recall_score (sensitivity) =  0.50625\n",
      "precision_score (specificity) =  0.6230769230769231\n"
     ]
    }
   ],
   "source": [
    "# Accuracy analysis\n",
    "from sklearn.metrics import (confusion_matrix, accuracy_score,f1_score,precision_score,recall_score)\n",
    "\n",
    "predictions = log_reg.predict(Xtrain)\n",
    "predictions = list(map(round, predictions))\n",
    "\n",
    "# confusion matrix\n",
    "cm = confusion_matrix(ytrain, predictions) \n",
    "print (\"Confusion Matrix : \\n\", cm) \n",
    "  \n",
    "# accuracy score of the model\n",
    "print('Test accuracy = ', accuracy_score(ytrain, predictions))\n",
    "print('recall_score (sensitivity) = ', recall_score(ytrain, predictions)) # sensitivity\n",
    "print('precision_score (specificity) = ', precision_score(ytrain, predictions)) # specificity"
   ]
  }
 ],
 "metadata": {
  "kernelspec": {
   "display_name": "Python 3",
   "language": "python",
   "name": "python3"
  },
  "language_info": {
   "codemirror_mode": {
    "name": "ipython",
    "version": 3
   },
   "file_extension": ".py",
   "mimetype": "text/x-python",
   "name": "python",
   "nbconvert_exporter": "python",
   "pygments_lexer": "ipython3",
   "version": "3.8.8"
  }
 },
 "nbformat": 4,
 "nbformat_minor": 5
}
