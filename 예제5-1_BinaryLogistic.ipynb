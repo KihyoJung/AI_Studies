{
 "cells": [
  {
   "cell_type": "code",
   "execution_count": 53,
   "id": "b5e4a4a2",
   "metadata": {},
   "outputs": [
    {
     "data": {
      "text/html": [
       "<div>\n",
       "<style scoped>\n",
       "    .dataframe tbody tr th:only-of-type {\n",
       "        vertical-align: middle;\n",
       "    }\n",
       "\n",
       "    .dataframe tbody tr th {\n",
       "        vertical-align: top;\n",
       "    }\n",
       "\n",
       "    .dataframe thead th {\n",
       "        text-align: right;\n",
       "    }\n",
       "</style>\n",
       "<table border=\"1\" class=\"dataframe\">\n",
       "  <thead>\n",
       "    <tr style=\"text-align: right;\">\n",
       "      <th></th>\n",
       "      <th>gmat</th>\n",
       "      <th>gpa</th>\n",
       "      <th>work_experience</th>\n",
       "      <th>admitted</th>\n",
       "    </tr>\n",
       "  </thead>\n",
       "  <tbody>\n",
       "    <tr>\n",
       "      <th>1</th>\n",
       "      <td>580</td>\n",
       "      <td>2.7</td>\n",
       "      <td>4</td>\n",
       "      <td>0</td>\n",
       "    </tr>\n",
       "    <tr>\n",
       "      <th>2</th>\n",
       "      <td>660</td>\n",
       "      <td>3.3</td>\n",
       "      <td>6</td>\n",
       "      <td>1</td>\n",
       "    </tr>\n",
       "    <tr>\n",
       "      <th>3</th>\n",
       "      <td>740</td>\n",
       "      <td>3.3</td>\n",
       "      <td>5</td>\n",
       "      <td>1</td>\n",
       "    </tr>\n",
       "    <tr>\n",
       "      <th>4</th>\n",
       "      <td>590</td>\n",
       "      <td>1.7</td>\n",
       "      <td>4</td>\n",
       "      <td>0</td>\n",
       "    </tr>\n",
       "    <tr>\n",
       "      <th>5</th>\n",
       "      <td>660</td>\n",
       "      <td>4.0</td>\n",
       "      <td>4</td>\n",
       "      <td>1</td>\n",
       "    </tr>\n",
       "  </tbody>\n",
       "</table>\n",
       "</div>"
      ],
      "text/plain": [
       "   gmat  gpa  work_experience  admitted\n",
       "1   580  2.7                4         0\n",
       "2   660  3.3                6         1\n",
       "3   740  3.3                5         1\n",
       "4   590  1.7                4         0\n",
       "5   660  4.0                4         1"
      ]
     },
     "execution_count": 53,
     "metadata": {},
     "output_type": "execute_result"
    }
   ],
   "source": [
    "import statsmodels.formula.api as sm\n",
    "import pandas as pd\n",
    "\n",
    "# import data\n",
    "df = pd.read_csv('data_binarylogistic.csv', index_col = 0)\n",
    "df.head()"
   ]
  },
  {
   "cell_type": "code",
   "execution_count": 79,
   "id": "cf2d38b4",
   "metadata": {},
   "outputs": [
    {
     "data": {
      "text/html": [
       "<div>\n",
       "<style scoped>\n",
       "    .dataframe tbody tr th:only-of-type {\n",
       "        vertical-align: middle;\n",
       "    }\n",
       "\n",
       "    .dataframe tbody tr th {\n",
       "        vertical-align: top;\n",
       "    }\n",
       "\n",
       "    .dataframe thead th {\n",
       "        text-align: right;\n",
       "    }\n",
       "</style>\n",
       "<table border=\"1\" class=\"dataframe\">\n",
       "  <thead>\n",
       "    <tr style=\"text-align: right;\">\n",
       "      <th></th>\n",
       "      <th>gmat</th>\n",
       "      <th>gpa</th>\n",
       "      <th>work_experience</th>\n",
       "    </tr>\n",
       "  </thead>\n",
       "  <tbody>\n",
       "    <tr>\n",
       "      <th>18</th>\n",
       "      <td>650</td>\n",
       "      <td>3.7</td>\n",
       "      <td>6</td>\n",
       "    </tr>\n",
       "    <tr>\n",
       "      <th>16</th>\n",
       "      <td>550</td>\n",
       "      <td>2.3</td>\n",
       "      <td>4</td>\n",
       "    </tr>\n",
       "    <tr>\n",
       "      <th>3</th>\n",
       "      <td>740</td>\n",
       "      <td>3.3</td>\n",
       "      <td>5</td>\n",
       "    </tr>\n",
       "    <tr>\n",
       "      <th>24</th>\n",
       "      <td>660</td>\n",
       "      <td>3.7</td>\n",
       "      <td>4</td>\n",
       "    </tr>\n",
       "    <tr>\n",
       "      <th>23</th>\n",
       "      <td>570</td>\n",
       "      <td>3.0</td>\n",
       "      <td>2</td>\n",
       "    </tr>\n",
       "  </tbody>\n",
       "</table>\n",
       "</div>"
      ],
      "text/plain": [
       "    gmat  gpa  work_experience\n",
       "18   650  3.7                6\n",
       "16   550  2.3                4\n",
       "3    740  3.3                5\n",
       "24   660  3.7                4\n",
       "23   570  3.0                2"
      ]
     },
     "execution_count": 79,
     "metadata": {},
     "output_type": "execute_result"
    }
   ],
   "source": [
    "# split data into training and testing\n",
    "from sklearn.model_selection import train_test_split\n",
    "y = df['admitted']\n",
    "X = df[['gmat','gpa','work_experience']]\n",
    "X_train,X_test,y_train,y_test = train_test_split(X,y,test_size=0.2)\n",
    "df_y_train=pd.DataFrame(data=y_train,columns=['admitted'])\n",
    "df_train=pd.concat([X_train, df_y_train], axis=1)\n",
    "X_train.head()\n",
    "# frames = [X_train, df_y_train]\n",
    "# print(frames)\n",
    "# df_train = pd.concat(frames)\n",
    "# df_train.head()\n",
    "# df_train=pd.DataFrame(data=[X_train, y_train],columns=['gmat','gpa','work_experinece','admitted'])"
   ]
  },
  {
   "cell_type": "code",
   "execution_count": 4,
   "id": "01b2671e",
   "metadata": {},
   "outputs": [
    {
     "data": {
      "image/png": "[encoded data removed]",
      "text/plain": [
       "<Figure size 432x288 with 1 Axes>"
      ]
     },
     "metadata": {
      "needs_background": "light"
     },
     "output_type": "display_data"
    },
    {
     "data": {
      "image/png": "[encoded data removed]",
      "text/plain": [
       "<Figure size 432x288 with 1 Axes>"
      ]
     },
     "metadata": {
      "needs_background": "light"
     },
     "output_type": "display_data"
    },
    {
     "data": {
      "image/png": "[encoded data removed]",
      "text/plain": [
       "<Figure size 432x288 with 1 Axes>"
      ]
     },
     "metadata": {
      "needs_background": "light"
     },
     "output_type": "display_data"
    }
   ],
   "source": [
    "# Examine the data\n",
    "ax=df.plot.scatter('gmat', 'admitted')\n",
    "ax=df.plot.scatter('gpa', 'admitted')\n",
    "ax=df.plot.scatter('work_experience', 'admitted')"
   ]
  },
  {
   "cell_type": "code",
   "execution_count": 35,
   "id": "66be8613",
   "metadata": {},
   "outputs": [
    {
     "name": "stdout",
     "output_type": "stream",
     "text": [
      "Optimization terminated successfully.\n",
      "         Current function value: 0.331992\n",
      "         Iterations 8\n",
      "                           Logit Regression Results                           \n",
      "==============================================================================\n",
      "Dep. Variable:               admitted   No. Observations:                   30\n",
      "Model:                          Logit   Df Residuals:                       28\n",
      "Method:                           MLE   Df Model:                            1\n",
      "Date:                Tue, 20 Jul 2021   Pseudo R-squ.:                  0.5210\n",
      "Time:                        17:26:08   Log-Likelihood:                -9.9598\n",
      "converged:                       True   LL-Null:                       -20.794\n",
      "Covariance Type:            nonrobust   LLR p-value:                 3.239e-06\n",
      "==============================================================================\n",
      "                 coef    std err          z      P>|z|      [0.025      0.975]\n",
      "------------------------------------------------------------------------------\n",
      "Intercept    -16.2892      6.394     -2.548      0.011     -28.821      -3.757\n",
      "gpa            4.9919      1.908      2.617      0.009       1.253       8.731\n",
      "==============================================================================\n"
     ]
    }
   ],
   "source": [
    "# Build binary logistic model using one predicting variable\n",
    "log_reg = sm.logit(formula='admitted~gpa', data=df).fit()\n",
    "print(log_reg.summary())"
   ]
  },
  {
   "cell_type": "code",
   "execution_count": 37,
   "id": "7a9df7d3",
   "metadata": {},
   "outputs": [
    {
     "data": {
      "image/png": "[encoded data removed]",
      "text/plain": [
       "<Figure size 432x288 with 1 Axes>"
      ]
     },
     "metadata": {
      "needs_background": "light"
     },
     "output_type": "display_data"
    }
   ],
   "source": [
    "# Plot the logistic model\n",
    "import numpy as np\n",
    "import matplotlib.pyplot as plt\n",
    "import statsmodels.api as sm_api\n",
    "\n",
    "value_min = df['gpa'].min()\n",
    "value_max = df['gpa'].max()\n",
    "pred_input = np.linspace(value_min, value_max, 20)\n",
    "\n",
    "predictions=log_reg.predict(exog=dict(gpa=pred_input))\n",
    "ax=df.plot.scatter('gpa', 'admitted')\n",
    "plt.plot(pred_input,predictions,c='red')\n",
    "plt.show()"
   ]
  },
  {
   "cell_type": "code",
   "execution_count": 41,
   "id": "1848da84",
   "metadata": {},
   "outputs": [
    {
     "name": "stdout",
     "output_type": "stream",
     "text": [
      "Confusion Matrix : \n",
      " [[11  4]\n",
      " [ 0 15]]\n",
      "Test accuracy =  0.8666666666666667\n",
      "recall_score (sensitivity) =  1.0\n",
      "precision_score (specificity) =  0.7894736842105263\n"
     ]
    }
   ],
   "source": [
    "# Accuracy analysis\n",
    "from sklearn.metrics import (confusion_matrix, accuracy_score,f1_score,precision_score,recall_score)\n",
    "\n",
    "predictions = log_reg.predict(df['gpa'])\n",
    "predictions = list(map(round, predictions))\n",
    "\n",
    "# confusion matrix\n",
    "cm = confusion_matrix(df['admitted'], predictions) \n",
    "print (\"Confusion Matrix : \\n\", cm) \n",
    "  \n",
    "# accuracy score of the model\n",
    "print('Test accuracy = ', accuracy_score(df['admitted'], predictions))\n",
    "print('recall_score (sensitivity) = ', recall_score(df['admitted'], predictions)) # sensitivity\n",
    "print('precision_score (specificity) = ', precision_score(df['admitted'], predictions)) # specificity"
   ]
  },
  {
   "cell_type": "code",
   "execution_count": 43,
   "id": "42be5394",
   "metadata": {},
   "outputs": [
    {
     "name": "stdout",
     "output_type": "stream",
     "text": [
      "Optimization terminated successfully.\n",
      "         Current function value: 0.247296\n",
      "         Iterations 8\n",
      "                           Logit Regression Results                           \n",
      "==============================================================================\n",
      "Dep. Variable:               admitted   No. Observations:                   30\n",
      "Model:                          Logit   Df Residuals:                       26\n",
      "Method:                           MLE   Df Model:                            3\n",
      "Date:                Tue, 20 Jul 2021   Pseudo R-squ.:                  0.6432\n",
      "Time:                        17:29:48   Log-Likelihood:                -7.4189\n",
      "converged:                       True   LL-Null:                       -20.794\n",
      "Covariance Type:            nonrobust   LLR p-value:                 6.639e-06\n",
      "===================================================================================\n",
      "                      coef    std err          z      P>|z|      [0.025      0.975]\n",
      "-----------------------------------------------------------------------------------\n",
      "Intercept         -16.3315      8.601     -1.899      0.058     -33.189       0.526\n",
      "gmat                0.0025      0.018      0.141      0.888      -0.032       0.037\n",
      "gpa                 3.3208      2.397      1.385      0.166      -1.378       8.020\n",
      "work_experience     0.9975      0.585      1.704      0.088      -0.150       2.145\n",
      "===================================================================================\n"
     ]
    }
   ],
   "source": [
    "# Multiple predicting variables\n",
    "log_reg = sm.logit(formula='admitted~gmat+gpa+work_experience', data=df).fit()\n",
    "print(log_reg.summary())"
   ]
  },
  {
   "cell_type": "code",
   "execution_count": 44,
   "id": "02989d3d",
   "metadata": {},
   "outputs": [
    {
     "name": "stdout",
     "output_type": "stream",
     "text": [
      "Optimization terminated successfully.\n",
      "         Current function value: 0.247630\n",
      "         Iterations 8\n",
      "                           Logit Regression Results                           \n",
      "==============================================================================\n",
      "Dep. Variable:               admitted   No. Observations:                   30\n",
      "Model:                          Logit   Df Residuals:                       27\n",
      "Method:                           MLE   Df Model:                            2\n",
      "Date:                Tue, 20 Jul 2021   Pseudo R-squ.:                  0.6427\n",
      "Time:                        17:30:12   Log-Likelihood:                -7.4289\n",
      "converged:                       True   LL-Null:                       -20.794\n",
      "Covariance Type:            nonrobust   LLR p-value:                 1.568e-06\n",
      "===================================================================================\n",
      "                      coef    std err          z      P>|z|      [0.025      0.975]\n",
      "-----------------------------------------------------------------------------------\n",
      "Intercept         -15.5190      6.194     -2.505      0.012     -27.659      -3.379\n",
      "gpa                 3.5510      1.798      1.975      0.048       0.028       7.074\n",
      "work_experience     1.0191      0.560      1.819      0.069      -0.079       2.117\n",
      "===================================================================================\n"
     ]
    }
   ],
   "source": [
    "# Multiple predicting variables\n",
    "log_reg = sm.logit(formula='admitted~gpa+work_experience', data=df).fit()\n",
    "print(log_reg.summary())"
   ]
  },
  {
   "cell_type": "code",
   "execution_count": 45,
   "id": "a5edece4",
   "metadata": {
    "scrolled": true
   },
   "outputs": [
    {
     "name": "stdout",
     "output_type": "stream",
     "text": [
      "Confusion Matrix : \n",
      " [[13  2]\n",
      " [ 1 14]]\n",
      "Test accuracy =  0.9\n",
      "recall_score (sensitivity) =  0.9333333333333333\n",
      "precision_score (specificity) =  0.875\n"
     ]
    }
   ],
   "source": [
    "# Accuracy analysis\n",
    "from sklearn.metrics import (confusion_matrix, accuracy_score,f1_score,precision_score,recall_score)\n",
    "\n",
    "predictions = log_reg.predict(df[['gpa','work_experience']])\n",
    "predictions = list(map(round, predictions))\n",
    "\n",
    "# confusion matrix\n",
    "cm = confusion_matrix(df['admitted'], predictions) \n",
    "print (\"Confusion Matrix : \\n\", cm) \n",
    "  \n",
    "# accuracy score of the model\n",
    "print('Test accuracy = ', accuracy_score(df['admitted'], predictions))\n",
    "print('recall_score (sensitivity) = ', recall_score(df['admitted'], predictions)) # sensitivity\n",
    "print('precision_score (specificity) = ', precision_score(df['admitted'], predictions)) # specificity"
   ]
  }
 ],
 "metadata": {
  "kernelspec": {
   "display_name": "Python 3",
   "language": "python",
   "name": "python3"
  },
  "language_info": {
   "codemirror_mode": {
    "name": "ipython",
    "version": 3
   },
   "file_extension": ".py",
   "mimetype": "text/x-python",
   "name": "python",
   "nbconvert_exporter": "python",
   "pygments_lexer": "ipython3",
   "version": "3.8.8"
  }
 },
 "nbformat": 4,
 "nbformat_minor": 5
}
